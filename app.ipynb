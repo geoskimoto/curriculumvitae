{
 "cells": [
  {
   "cell_type": "code",
   "execution_count": 1,
   "metadata": {},
   "outputs": [],
   "source": [
    "import os\n",
    "from pathlib import Path\n",
    "# from datetime import datetime as dt\n",
    "# import pandas as pd\n",
    "import dash\n",
    "from dash import html, dcc\n",
    "import dash_bootstrap_components as dbc\n",
    "from\n",
    "# from Code_Portfolio import ...\n",
    "# from Field_Portfolio import ...\n",
    "# from Intro import intro\n",
    "# from Skills import skills\n",
    "# from dash.dependencies import Input, Output, State"
   ]
  },
  {
   "cell_type": "code",
   "execution_count": 2,
   "metadata": {},
   "outputs": [
    {
     "data": {
      "text/plain": [
       "'C:\\\\Users\\\\nicks\\\\Projects\\\\CurriculumVitae\\\\Images'"
      ]
     },
     "execution_count": 2,
     "metadata": {},
     "output_type": "execute_result"
    }
   ],
   "source": [
    "Images = os.getcwd()+'\\\\Images'\n",
    "Images"
   ]
  },
  {
   "cell_type": "code",
   "execution_count": 3,
   "metadata": {},
   "outputs": [
    {
     "data": {
      "text/plain": [
       "'C:/Users/nicks/Projects/CurriculumVitae/Images'"
      ]
     },
     "execution_count": 3,
     "metadata": {},
     "output_type": "execute_result"
    }
   ],
   "source": [
    "Images = Path(Images).as_posix()\n",
    "Images"
   ]
  },
  {
   "cell_type": "code",
   "execution_count": null,
   "metadata": {},
   "outputs": [],
   "source": [
    "Images + '/pic'"
   ]
  },
  {
   "cell_type": "code",
   "execution_count": null,
   "metadata": {},
   "outputs": [],
   "source": [
    "DB_DIR = os.path.dirname(os.path.realpath(__file__))\n"
   ]
  },
  {
   "cell_type": "code",
   "execution_count": null,
   "metadata": {},
   "outputs": [],
   "source": []
  },
  {
   "cell_type": "code",
   "execution_count": null,
   "metadata": {},
   "outputs": [],
   "source": []
  },
  {
   "cell_type": "code",
   "execution_count": 3,
   "metadata": {},
   "outputs": [
    {
     "name": "stdout",
     "output_type": "stream",
     "text": [
      "Dash is running on http://127.0.0.1:8050/\n",
      "\n",
      "Dash is running on http://127.0.0.1:8050/\n",
      "\n",
      " * Serving Flask app \"__main__\" (lazy loading)\n",
      " * Environment: production\n",
      "   WARNING: This is a development server. Do not use it in a production deployment.\n",
      "   Use a production WSGI server instead.\n",
      " * Debug mode: on\n"
     ]
    },
    {
     "ename": "SystemExit",
     "evalue": "1",
     "output_type": "error",
     "traceback": [
      "An exception has occurred, use %tb to see the full traceback.\n",
      "\u001b[1;31mSystemExit\u001b[0m\u001b[1;31m:\u001b[0m 1\n"
     ]
    }
   ],
   "source": [
    "app = dash.Dash(__name__)\n",
    "app.title = \"Nicholas Steele - Curriculum Vitae\"\n",
    "\n",
    "server = app.server\n",
    "\n",
    "\n",
    "def get_menu():\n",
    "    menu = html.Div([\n",
    "\n",
    "        dcc.Link('Experience', href='/Experience', className=\"tab first\"),\n",
    "\n",
    "        dcc.Link('Skills', href='/Skills', className=\"tab\"),\n",
    "\n",
    "        dcc.Link('Portfolio', href='/Portfolio', className=\"tab\"),\n",
    "\n",
    "    ], className=\"row\")\n",
    "    return menu\n",
    "\n",
    "\n",
    "\n",
    "\n",
    "app.layout = dbc.Container([\n",
    "                        html.Div([\n",
    "\n",
    "                            html.Br(),\n",
    "                            html.P([                                   \n",
    "                                html.Br(),\n",
    "                                html.H5('Nicholas Steele - Curriculum Vitae'), #, style = heading),\n",
    "                                html.H4('contact info...'), #, style = subheading)\n",
    "                                html.Div([get_menu()\n",
    "                                 ])\n",
    "                            ], style = {'text-align': \"center\"}),\n",
    "                            ]),\n",
    "                            html.Br(),\n",
    "                            dbc.Row([\n",
    "                                    dbc.Col('Bio', width=3),\n",
    "#                                     dbc.Row(\n",
    "                                    dbc.Col(\n",
    "                                        [dbc.Row(\n",
    "                                            dbc.Col('Statement')\n",
    "                                        ),\n",
    "                                         dbc.Row(\n",
    "                                            dbc.Col('Education')\n",
    "                                        ),\n",
    "#                                         dbc.Row(\n",
    "#                                             dbc.Col(predic),\n",
    "                                        ]\n",
    "                                    )\n",
    "                             ])\n",
    "])\n",
    "                                    \n",
    "\n",
    "\n",
    "\n",
    "if __name__ == '__main__':\n",
    "    app.run_server(debug=True)\n",
    "\n",
    "\n",
    "\n",
    "\n",
    "\n",
    "\n",
    "#         html.Div(\n",
    "#             [\n",
    "#                 html.P(\n",
    "#                     [\n",
    "#                         html.H4(app.title),\n",
    "#                         # html.H5(\n",
    "#                         #     \"Estimate missing or bad data using regression\",\n",
    "#                         # ),\n",
    "#                     ],\n",
    "#                     style={\"text-align\": \"center\"},\n",
    "#                 ),\n",
    "#             ],\n",
    "#             className=\"my-2\",\n",
    "#         ),\n",
    "#         dbc.Row(\n",
    "#             [\n",
    "#                 # dbc.Col(get_control_view(), width=3),\n",
    "#                 dbc.Col(\n",
    "#                     children=[\n",
    "#                         dbc.Tabs(\n",
    "#                             children=[\n",
    "#                                 dbc.Tab(\n",
    "#                                     label=\"Training\",\n",
    "#                                     children=[\n",
    "#                                         dbc.Row(\n",
    "#                                             dbc.Col(html.Div(id=\"traintest-plots\")),\n",
    "#                                         ),\n",
    "#                                         dbc.Row(\n",
    "#                                             dbc.Col(html.Div(id=\"modelfit-plots\")),\n",
    "#                                         ),\n",
    "#                                     ],\n",
    "#                                 ),\n",
    "#                                 dbc.Tab(\n",
    "#                                     label=\"Map\",\n",
    "#                                     children=[\n",
    "#                                         dbc.Row(\n",
    "#                                             dbc.Col(\n",
    "#                                                 html.Div(\n",
    "#                                                     id=\"station-map\", className=\"p-2\"\n",
    "#                                                 ),\n",
    "#                                             ),\n",
    "#                                         ),\n",
    "#                                     ],\n",
    "#                                 ),\n",
    "#                                 dbc.Tab(\n",
    "#                                     label=\"Results\",\n",
    "#                                     children=[\n",
    "#                                         dbc.Row(\n",
    "#                                             dbc.Col(html.Div(id=\"pred-plots\")),\n",
    "#                                         ),\n",
    "#                                     ],\n",
    "#                                 ),\n",
    "#                             ],\n",
    "#                         ),\n",
    "#                     ],\n",
    "#                 ),\n",
    "#             ],\n",
    "#             className=\"my-2\",\n",
    "#         ),\n",
    "#     ],\n",
    "#     fluid=True,\n",
    "\n",
    "\n",
    "\n",
    "\n",
    "# def Header():\n",
    "#     return html.Div([\n",
    "#         get_logo(),\n",
    "#         get_header(),\n",
    "#         html.Br([]),\n",
    "#         get_menu()\n",
    "#     ])\n",
    "\n",
    "# def get_logo():\n",
    "#     logo = html.Div([\n",
    "\n",
    "#         html.Div([\n",
    "#             html.Img(src= './Images/P6170205.jpg', alt='bla')#, height='40px')\n",
    "#         ], className=\"ten columns padded\"),\n",
    "\n",
    "#         html.Div([\n",
    "#             dcc.Link('Home?', href='/home')\n",
    "#         ], className=\"two columns page-view no-print\")\n",
    "\n",
    "#     ], className=\"row gs-header\")\n",
    "#     return logo\n",
    "\n",
    "\n",
    "# def get_header():\n",
    "#     header = html.Div([\n",
    "\n",
    "#         html.Div([\n",
    "#             html.H5(\n",
    "#                 'Nicholas Steele | Hydrogeologist, Data Scientist'),\n",
    "#             html.A('nick.steele.nv@gmail.com', href='mailto:nick.steele.nv@gmail.com')\n",
    "#         ], className=\"twelve columns padded\")\n",
    "\n",
    "#     ], className=\"row gs-header gs-text-header\")\n",
    "#     return header\n",
    "\n",
    "\n",
    "# def get_menu():\n",
    "#     menu = html.Div([\n",
    "\n",
    "#         dcc.Link('Experience', href='/Experience', className=\"tab first\"),\n",
    "\n",
    "#         dcc.Link('Skills', href='/Skills', className=\"tab\"),\n",
    "\n",
    "#         dcc.Link('Portfolio', href='/Portfolio', className=\"tab\"),\n",
    "\n",
    "#     ], className=\"row\")\n",
    "#     return menu"
   ]
  },
  {
   "cell_type": "code",
   "execution_count": null,
   "metadata": {},
   "outputs": [],
   "source": []
  },
  {
   "cell_type": "code",
   "execution_count": null,
   "metadata": {},
   "outputs": [],
   "source": []
  }
 ],
 "metadata": {
  "kernelspec": {
   "display_name": "Python 3",
   "language": "python",
   "name": "python3"
  },
  "language_info": {
   "codemirror_mode": {
    "name": "ipython",
    "version": 3
   },
   "file_extension": ".py",
   "mimetype": "text/x-python",
   "name": "python",
   "nbconvert_exporter": "python",
   "pygments_lexer": "ipython3",
   "version": "3.8.3"
  }
 },
 "nbformat": 4,
 "nbformat_minor": 4
}
